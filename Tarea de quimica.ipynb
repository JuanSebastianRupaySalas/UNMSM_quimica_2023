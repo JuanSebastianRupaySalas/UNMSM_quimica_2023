{
  "nbformat": 4,
  "nbformat_minor": 0,
  "metadata": {
    "colab": {
      "provenance": [],
      "authorship_tag": "ABX9TyO9gjW24q7L3YtL1HnaMLMq",
      "include_colab_link": true
    },
    "kernelspec": {
      "name": "python3",
      "display_name": "Python 3"
    },
    "language_info": {
      "name": "python"
    },
    "widgets": {
      "application/vnd.jupyter.widget-state+json": {
        "a33e36b7f476434d9b09fc2194db8d72": {
          "model_module": "faerun-notebook",
          "model_name": "SmilesDrawerModel",
          "model_module_version": "^0.1.5",
          "state": {
            "_dom_classes": [],
            "_model_module": "faerun-notebook",
            "_model_module_version": "^0.1.5",
            "_model_name": "SmilesDrawerModel",
            "_view_count": null,
            "_view_module": "faerun-notebook",
            "_view_module_version": "^0.1.5",
            "_view_name": "SmilesDrawerView",
            "background": "#1e1e1e",
            "border": true,
            "layout": "IPY_MODEL_fd1fa35fb50e47f19b5dab2df014a58b",
            "options": {
              "scale": 1.25
            },
            "output": "svg",
            "theme": "dark",
            "value": [
              [
                "Rxn",
                "C(C1C(C(C(C(O1)O)O)O)O)O.O=O>>C(=O)=O.O"
              ]
            ]
          }
        },
        "fd1fa35fb50e47f19b5dab2df014a58b": {
          "model_module": "@jupyter-widgets/base",
          "model_name": "LayoutModel",
          "model_module_version": "1.2.0",
          "state": {
            "_model_module": "@jupyter-widgets/base",
            "_model_module_version": "1.2.0",
            "_model_name": "LayoutModel",
            "_view_count": null,
            "_view_module": "@jupyter-widgets/base",
            "_view_module_version": "1.2.0",
            "_view_name": "LayoutView",
            "align_content": null,
            "align_items": null,
            "align_self": null,
            "border": null,
            "bottom": null,
            "display": null,
            "flex": null,
            "flex_flow": null,
            "grid_area": null,
            "grid_auto_columns": null,
            "grid_auto_flow": null,
            "grid_auto_rows": null,
            "grid_column": null,
            "grid_gap": null,
            "grid_row": null,
            "grid_template_areas": null,
            "grid_template_columns": null,
            "grid_template_rows": null,
            "height": null,
            "justify_content": null,
            "justify_items": null,
            "left": null,
            "margin": null,
            "max_height": null,
            "max_width": null,
            "min_height": null,
            "min_width": null,
            "object_fit": null,
            "object_position": null,
            "order": null,
            "overflow": null,
            "overflow_x": null,
            "overflow_y": null,
            "padding": null,
            "right": null,
            "top": null,
            "visibility": null,
            "width": null
          }
        }
      }
    }
  },
  "cells": [
    {
      "cell_type": "markdown",
      "metadata": {
        "id": "view-in-github",
        "colab_type": "text"
      },
      "source": [
        "<a href=\"https://colab.research.google.com/github/JuanSebastianRupaySalas/UNMSM_quimica_2023/blob/main/Copia_de_Untitled0.ipynb\" target=\"_parent\"><img src=\"https://colab.research.google.com/assets/colab-badge.svg\" alt=\"Open In Colab\"/></a>"
      ]
    },
    {
      "cell_type": "code",
      "execution_count": null,
      "metadata": {
        "id": "D9tMLQDY78Ea"
      },
      "outputs": [],
      "source": []
    },
    {
      "cell_type": "markdown",
      "source": [
        "$$\\Large \\textit{UNMSM | Química}$$\n",
        "$$\\large \\textbf{PC Nº1 | Materia y clasificación}$$\n",
        "\n",
        "_Profesor: Jesus Alvarado Huayhuaz_"
      ],
      "metadata": {
        "id": "sDJAjbaQOj4x"
      }
    },
    {
      "cell_type": "markdown",
      "source": [
        "Todas las indicaciones para la presentación de la práctica son explicadas en clase y brindadas en el material de enunciado de preguntas en formato PDF."
      ],
      "metadata": {
        "id": "_DsTzWLoP7Fy"
      }
    },
    {
      "cell_type": "markdown",
      "source": [
        "## Pregunta 1: Sobre el ABC de python (4 puntos)"
      ],
      "metadata": {
        "id": "obD7c2igOD6t"
      }
    },
    {
      "cell_type": "markdown",
      "source": [
        "Durante la semana de revisión del material \"ABC de python\", reflexiona sobre qué conceptos aprendiste con claridad y cuáles consideras los más desafiantes. A continuación resuelve los siguiente ejercicios, puedes ayudarte del material en http://bit.ly/3YKICSZ."
      ],
      "metadata": {
        "id": "emt93S7dL7QH"
      }
    },
    {
      "cell_type": "code",
      "source": [
        "# Imprime la versión de python que usas y las palabras reservadas de python para esa versión.\n",
        "!python --version"
      ],
      "metadata": {
        "id": "6mJvqMN0LTU8",
        "outputId": "923be0a2-250e-4c20-f80a-12baca4fe0dc",
        "colab": {
          "base_uri": "https://localhost:8080/"
        }
      },
      "execution_count": null,
      "outputs": [
        {
          "output_type": "stream",
          "name": "stdout",
          "text": [
            "Python 3.10.12\n"
          ]
        }
      ]
    },
    {
      "cell_type": "code",
      "source": [
        "# Crea una matriz de 3x3 e imprime la suma de los elementos en su diagonal (traza).\n",
        "matriz=[\n",
        "    [4, 5, 3],\n",
        "    [2, 4, 1],\n",
        "    [8, 6, 9]\n",
        "]\n",
        "\n",
        "suma_diagonal = matriz[0][0] + matriz[1][1] + matriz[2][2]\n",
        "\n",
        "print(\"Suma de la diagonal:\", suma_diagonal)"
      ],
      "metadata": {
        "id": "MxDzGypdLTXh",
        "outputId": "770e5019-fc61-4c34-d7ba-904fb38a9f91",
        "colab": {
          "base_uri": "https://localhost:8080/"
        }
      },
      "execution_count": null,
      "outputs": [
        {
          "output_type": "stream",
          "name": "stdout",
          "text": [
            "Suma de la diagonal: 17\n"
          ]
        }
      ]
    },
    {
      "cell_type": "code",
      "source": [
        "# Guarda como variable la masa atómica de los elementos C, H y O, e imprime la masa molecular del etanol.\n",
        "masa_atomicaC= 12\n",
        "masa_atomicaH= 1\n",
        "masa_atomicaO= 16\n",
        "\n",
        "#Formula del etanol C2H5OH\n",
        "masa_etanol=(masa_atomicaC*2) + (masa_atomicaH*5) + (masa_atomicaO*1) + (masa_atomicaH*1)\n",
        "\n",
        "print(\"Masa molecular del etanol:\", masa_etanol)"
      ],
      "metadata": {
        "id": "MyhNX7JmLTSe",
        "outputId": "99a4a405-0a85-4a63-bc77-c8f66d94241e",
        "colab": {
          "base_uri": "https://localhost:8080/"
        }
      },
      "execution_count": null,
      "outputs": [
        {
          "output_type": "stream",
          "name": "stdout",
          "text": [
            "Masa molecular del etanol: 46\n"
          ]
        }
      ]
    },
    {
      "cell_type": "code",
      "source": [
        "# Busca la temperatura de fusión en Celsius de 5 metales y guárdalos en una lista. Imprime las temperaturas en Kelvin\n",
        "metales = [\n",
        "    (\"potasio\", 63.25),\n",
        "    (\"sodio\", 97.81),\n",
        "    (\"Magnesio\", 648.8),\n",
        "    (\"Aluminio\", 660.37),\n",
        "    (\"litio\", 180.54)\n",
        "]\n",
        "\n",
        "def celsius_a_kelvin(celsius):\n",
        "    return celsius + 273.15\n",
        "\n",
        "print(\"Temperaturas de fusión:\")\n",
        "for metal, celsius in metales:\n",
        "    kelvin = celsius_a_kelvin(celsius)\n",
        "    print(f\"{metal}: {kelvin:.2f} K\")"
      ],
      "metadata": {
        "id": "NCOnJ0FwgLLc",
        "colab": {
          "base_uri": "https://localhost:8080/"
        },
        "outputId": "84d69551-4028-4a36-9c4a-9dbbed491fa1"
      },
      "execution_count": null,
      "outputs": [
        {
          "output_type": "stream",
          "name": "stdout",
          "text": [
            "Temperaturas de fusión:\n",
            "potasio: 336.40 K\n",
            "sodio: 370.96 K\n",
            "Magnesio: 921.95 K\n",
            "Aluminio: 933.52 K\n",
            "litio: 453.69 K\n"
          ]
        }
      ]
    },
    {
      "cell_type": "markdown",
      "source": [
        "## Pregunta 2: Operaciones (4 puntos)"
      ],
      "metadata": {
        "id": "epzOadagLfPi"
      }
    },
    {
      "cell_type": "markdown",
      "source": [
        "Escribe un programa que lea repetidamente elementos químicos en español hasta que el usuario introduzca “fin”. Una vez se haya introducido “fin”, muestra por pantalla (o sea imprime) el total de elementos ingresados. Si el usuario introduce cualquier otra cosa que no sea un elemento químico, detecta su fallo usando try y except, muestra un mensaje de error y pasa al siguiente elemento."
      ],
      "metadata": {
        "id": "MbAEOGPsjOWZ"
      }
    },
    {
      "cell_type": "code",
      "source": [
        "elementos_quimicos = {\n",
        "    \"oro\": \"Au\", \"potasio\": \"K\", \"magnesio\": \"Mg\", \"manganeso\": \"Mn\",\n",
        "    \"cobre\": \"cu\", \"litio\": \"Li\", \"cesio\": \"Cs\", \"zinc\": \"Zn\",\n",
        "    # ... otros elementos ...\n",
        "}\n",
        "\n",
        "# Contador de elementos ingresados:\n",
        "total_elementos = 0\n",
        "\n",
        "while True:\n",
        "    entrada = input(\"Ingresa un elemento químico (o 'fin' para terminar): \").lower()\n",
        "\n",
        "    if entrada == \"fin\":\n",
        "        break  # Terminar el ciclo si se ingresa \"fin\"\n",
        "\n",
        "    try:\n",
        "        simbolo = elementos_quimicos[entrada]\n",
        "        total_elementos += 1\n",
        "        print(f\"Elemento válido: {entrada.capitalize()} ({simbolo})\")\n",
        "    except KeyError:\n",
        "        print(\"Error: Elemento no es reconocido. Introduce un elemento válido.\")\n",
        "\n",
        "# Imprimiendo el total de elementos ingresados:h\n",
        "print(\"Total de elementos ingresados:\", total_elementos)"
      ],
      "metadata": {
        "id": "gJGX0p5QLetj",
        "colab": {
          "base_uri": "https://localhost:8080/"
        },
        "outputId": "e367d92f-d791-4a65-c17e-c57983773fbd"
      },
      "execution_count": 7,
      "outputs": [
        {
          "output_type": "stream",
          "name": "stdout",
          "text": [
            "Ingresa un elemento químico (o 'fin' para terminar): Oro\n",
            "Elemento válido: Oro (Au)\n",
            "Ingresa un elemento químico (o 'fin' para terminar): Magnesio\n",
            "Elemento válido: Magnesio (Mg)\n",
            "Ingresa un elemento químico (o 'fin' para terminar): Litio\n",
            "Elemento válido: Litio (Li)\n",
            "Ingresa un elemento químico (o 'fin' para terminar): manganeso\n",
            "Elemento válido: Manganeso (Mn)\n",
            "Ingresa un elemento químico (o 'fin' para terminar): cobre\n",
            "Elemento válido: Cobre (cu)\n",
            "Ingresa un elemento químico (o 'fin' para terminar): zinc\n",
            "Elemento válido: Zinc (Zn)\n",
            "Ingresa un elemento químico (o 'fin' para terminar): cesio\n",
            "Elemento válido: Cesio (Cs)\n",
            "Ingresa un elemento químico (o 'fin' para terminar): potasio\n",
            "Elemento válido: Potasio (K)\n",
            "Ingresa un elemento químico (o 'fin' para terminar): fin\n",
            "Total de elementos ingresados: 8\n"
          ]
        }
      ]
    },
    {
      "cell_type": "markdown",
      "source": [
        "# Pregunta 3: Conservación de la masa (4 puntos)"
      ],
      "metadata": {
        "id": "8gxSHpD3LZsh"
      }
    },
    {
      "cell_type": "markdown",
      "source": [
        "### Código necesario para generar la imagen"
      ],
      "metadata": {
        "id": "mMV9c3hDl7KL"
      }
    },
    {
      "cell_type": "code",
      "source": [
        "!pip install faerun-notebook==0.1.5b0\n",
        "\n",
        "import ipywidgets as widgets\n",
        "from faerun_notebook import SmilesDrawer\n",
        "from google.colab import output\n",
        "output.enable_custom_widget_manager()"
      ],
      "metadata": {
        "id": "JgF8Ohtbky65",
        "colab": {
          "base_uri": "https://localhost:8080/"
        },
        "outputId": "df1bc366-d062-4a5a-e2f9-27fbd61dd78f"
      },
      "execution_count": null,
      "outputs": [
        {
          "output_type": "stream",
          "name": "stdout",
          "text": [
            "Collecting faerun-notebook==0.1.5b0\n",
            "  Downloading faerun_notebook-0.1.5b0.tar.gz (534 kB)\n",
            "\u001b[2K     \u001b[90m━━━━━━━━━━━━━━━━━━━━━━━━━━━━━━━━━━━━━━━\u001b[0m \u001b[32m535.0/535.0 kB\u001b[0m \u001b[31m7.0 MB/s\u001b[0m eta \u001b[36m0:00:00\u001b[0m\n",
            "\u001b[?25h  Installing build dependencies ... \u001b[?25l\u001b[?25hdone\n",
            "  Getting requirements to build wheel ... \u001b[?25l\u001b[?25hdone\n",
            "  Preparing metadata (pyproject.toml) ... \u001b[?25l\u001b[?25hdone\n",
            "Requirement already satisfied: ipywidgets>=7.6.0 in /usr/local/lib/python3.10/dist-packages (from faerun-notebook==0.1.5b0) (7.7.1)\n",
            "Requirement already satisfied: numpy in /usr/local/lib/python3.10/dist-packages (from faerun-notebook==0.1.5b0) (1.23.5)\n",
            "Requirement already satisfied: matplotlib in /usr/local/lib/python3.10/dist-packages (from faerun-notebook==0.1.5b0) (3.7.1)\n",
            "Requirement already satisfied: ipykernel>=4.5.1 in /usr/local/lib/python3.10/dist-packages (from ipywidgets>=7.6.0->faerun-notebook==0.1.5b0) (5.5.6)\n",
            "Requirement already satisfied: ipython-genutils~=0.2.0 in /usr/local/lib/python3.10/dist-packages (from ipywidgets>=7.6.0->faerun-notebook==0.1.5b0) (0.2.0)\n",
            "Requirement already satisfied: traitlets>=4.3.1 in /usr/local/lib/python3.10/dist-packages (from ipywidgets>=7.6.0->faerun-notebook==0.1.5b0) (5.7.1)\n",
            "Requirement already satisfied: widgetsnbextension~=3.6.0 in /usr/local/lib/python3.10/dist-packages (from ipywidgets>=7.6.0->faerun-notebook==0.1.5b0) (3.6.5)\n",
            "Requirement already satisfied: ipython>=4.0.0 in /usr/local/lib/python3.10/dist-packages (from ipywidgets>=7.6.0->faerun-notebook==0.1.5b0) (7.34.0)\n",
            "Requirement already satisfied: jupyterlab-widgets>=1.0.0 in /usr/local/lib/python3.10/dist-packages (from ipywidgets>=7.6.0->faerun-notebook==0.1.5b0) (3.0.8)\n",
            "Requirement already satisfied: contourpy>=1.0.1 in /usr/local/lib/python3.10/dist-packages (from matplotlib->faerun-notebook==0.1.5b0) (1.1.0)\n",
            "Requirement already satisfied: cycler>=0.10 in /usr/local/lib/python3.10/dist-packages (from matplotlib->faerun-notebook==0.1.5b0) (0.11.0)\n",
            "Requirement already satisfied: fonttools>=4.22.0 in /usr/local/lib/python3.10/dist-packages (from matplotlib->faerun-notebook==0.1.5b0) (4.42.1)\n",
            "Requirement already satisfied: kiwisolver>=1.0.1 in /usr/local/lib/python3.10/dist-packages (from matplotlib->faerun-notebook==0.1.5b0) (1.4.4)\n",
            "Requirement already satisfied: packaging>=20.0 in /usr/local/lib/python3.10/dist-packages (from matplotlib->faerun-notebook==0.1.5b0) (23.1)\n",
            "Requirement already satisfied: pillow>=6.2.0 in /usr/local/lib/python3.10/dist-packages (from matplotlib->faerun-notebook==0.1.5b0) (9.4.0)\n",
            "Requirement already satisfied: pyparsing>=2.3.1 in /usr/local/lib/python3.10/dist-packages (from matplotlib->faerun-notebook==0.1.5b0) (3.1.1)\n",
            "Requirement already satisfied: python-dateutil>=2.7 in /usr/local/lib/python3.10/dist-packages (from matplotlib->faerun-notebook==0.1.5b0) (2.8.2)\n",
            "Requirement already satisfied: jupyter-client in /usr/local/lib/python3.10/dist-packages (from ipykernel>=4.5.1->ipywidgets>=7.6.0->faerun-notebook==0.1.5b0) (6.1.12)\n",
            "Requirement already satisfied: tornado>=4.2 in /usr/local/lib/python3.10/dist-packages (from ipykernel>=4.5.1->ipywidgets>=7.6.0->faerun-notebook==0.1.5b0) (6.3.2)\n",
            "Requirement already satisfied: setuptools>=18.5 in /usr/local/lib/python3.10/dist-packages (from ipython>=4.0.0->ipywidgets>=7.6.0->faerun-notebook==0.1.5b0) (67.7.2)\n",
            "Collecting jedi>=0.16 (from ipython>=4.0.0->ipywidgets>=7.6.0->faerun-notebook==0.1.5b0)\n",
            "  Using cached jedi-0.19.0-py2.py3-none-any.whl (1.6 MB)\n",
            "Requirement already satisfied: decorator in /usr/local/lib/python3.10/dist-packages (from ipython>=4.0.0->ipywidgets>=7.6.0->faerun-notebook==0.1.5b0) (4.4.2)\n",
            "Requirement already satisfied: pickleshare in /usr/local/lib/python3.10/dist-packages (from ipython>=4.0.0->ipywidgets>=7.6.0->faerun-notebook==0.1.5b0) (0.7.5)\n",
            "Requirement already satisfied: prompt-toolkit!=3.0.0,!=3.0.1,<3.1.0,>=2.0.0 in /usr/local/lib/python3.10/dist-packages (from ipython>=4.0.0->ipywidgets>=7.6.0->faerun-notebook==0.1.5b0) (3.0.39)\n",
            "Requirement already satisfied: pygments in /usr/local/lib/python3.10/dist-packages (from ipython>=4.0.0->ipywidgets>=7.6.0->faerun-notebook==0.1.5b0) (2.16.1)\n",
            "Requirement already satisfied: backcall in /usr/local/lib/python3.10/dist-packages (from ipython>=4.0.0->ipywidgets>=7.6.0->faerun-notebook==0.1.5b0) (0.2.0)\n",
            "Requirement already satisfied: matplotlib-inline in /usr/local/lib/python3.10/dist-packages (from ipython>=4.0.0->ipywidgets>=7.6.0->faerun-notebook==0.1.5b0) (0.1.6)\n",
            "Requirement already satisfied: pexpect>4.3 in /usr/local/lib/python3.10/dist-packages (from ipython>=4.0.0->ipywidgets>=7.6.0->faerun-notebook==0.1.5b0) (4.8.0)\n",
            "Requirement already satisfied: six>=1.5 in /usr/local/lib/python3.10/dist-packages (from python-dateutil>=2.7->matplotlib->faerun-notebook==0.1.5b0) (1.16.0)\n",
            "Requirement already satisfied: notebook>=4.4.1 in /usr/local/lib/python3.10/dist-packages (from widgetsnbextension~=3.6.0->ipywidgets>=7.6.0->faerun-notebook==0.1.5b0) (6.5.5)\n",
            "Requirement already satisfied: parso<0.9.0,>=0.8.3 in /usr/local/lib/python3.10/dist-packages (from jedi>=0.16->ipython>=4.0.0->ipywidgets>=7.6.0->faerun-notebook==0.1.5b0) (0.8.3)\n",
            "Requirement already satisfied: jinja2 in /usr/local/lib/python3.10/dist-packages (from notebook>=4.4.1->widgetsnbextension~=3.6.0->ipywidgets>=7.6.0->faerun-notebook==0.1.5b0) (3.1.2)\n",
            "Requirement already satisfied: pyzmq<25,>=17 in /usr/local/lib/python3.10/dist-packages (from notebook>=4.4.1->widgetsnbextension~=3.6.0->ipywidgets>=7.6.0->faerun-notebook==0.1.5b0) (23.2.1)\n",
            "Requirement already satisfied: argon2-cffi in /usr/local/lib/python3.10/dist-packages (from notebook>=4.4.1->widgetsnbextension~=3.6.0->ipywidgets>=7.6.0->faerun-notebook==0.1.5b0) (23.1.0)\n",
            "Requirement already satisfied: jupyter-core>=4.6.1 in /usr/local/lib/python3.10/dist-packages (from notebook>=4.4.1->widgetsnbextension~=3.6.0->ipywidgets>=7.6.0->faerun-notebook==0.1.5b0) (5.3.1)\n",
            "Requirement already satisfied: nbformat in /usr/local/lib/python3.10/dist-packages (from notebook>=4.4.1->widgetsnbextension~=3.6.0->ipywidgets>=7.6.0->faerun-notebook==0.1.5b0) (5.9.2)\n",
            "Requirement already satisfied: nbconvert>=5 in /usr/local/lib/python3.10/dist-packages (from notebook>=4.4.1->widgetsnbextension~=3.6.0->ipywidgets>=7.6.0->faerun-notebook==0.1.5b0) (6.5.4)\n",
            "Requirement already satisfied: nest-asyncio>=1.5 in /usr/local/lib/python3.10/dist-packages (from notebook>=4.4.1->widgetsnbextension~=3.6.0->ipywidgets>=7.6.0->faerun-notebook==0.1.5b0) (1.5.7)\n",
            "Requirement already satisfied: Send2Trash>=1.8.0 in /usr/local/lib/python3.10/dist-packages (from notebook>=4.4.1->widgetsnbextension~=3.6.0->ipywidgets>=7.6.0->faerun-notebook==0.1.5b0) (1.8.2)\n",
            "Requirement already satisfied: terminado>=0.8.3 in /usr/local/lib/python3.10/dist-packages (from notebook>=4.4.1->widgetsnbextension~=3.6.0->ipywidgets>=7.6.0->faerun-notebook==0.1.5b0) (0.17.1)\n",
            "Requirement already satisfied: prometheus-client in /usr/local/lib/python3.10/dist-packages (from notebook>=4.4.1->widgetsnbextension~=3.6.0->ipywidgets>=7.6.0->faerun-notebook==0.1.5b0) (0.17.1)\n",
            "Requirement already satisfied: nbclassic>=0.4.7 in /usr/local/lib/python3.10/dist-packages (from notebook>=4.4.1->widgetsnbextension~=3.6.0->ipywidgets>=7.6.0->faerun-notebook==0.1.5b0) (1.0.0)\n",
            "Requirement already satisfied: ptyprocess>=0.5 in /usr/local/lib/python3.10/dist-packages (from pexpect>4.3->ipython>=4.0.0->ipywidgets>=7.6.0->faerun-notebook==0.1.5b0) (0.7.0)\n",
            "Requirement already satisfied: wcwidth in /usr/local/lib/python3.10/dist-packages (from prompt-toolkit!=3.0.0,!=3.0.1,<3.1.0,>=2.0.0->ipython>=4.0.0->ipywidgets>=7.6.0->faerun-notebook==0.1.5b0) (0.2.6)\n",
            "Requirement already satisfied: platformdirs>=2.5 in /usr/local/lib/python3.10/dist-packages (from jupyter-core>=4.6.1->notebook>=4.4.1->widgetsnbextension~=3.6.0->ipywidgets>=7.6.0->faerun-notebook==0.1.5b0) (3.10.0)\n",
            "Requirement already satisfied: jupyter-server>=1.8 in /usr/local/lib/python3.10/dist-packages (from nbclassic>=0.4.7->notebook>=4.4.1->widgetsnbextension~=3.6.0->ipywidgets>=7.6.0->faerun-notebook==0.1.5b0) (1.24.0)\n",
            "Requirement already satisfied: notebook-shim>=0.2.3 in /usr/local/lib/python3.10/dist-packages (from nbclassic>=0.4.7->notebook>=4.4.1->widgetsnbextension~=3.6.0->ipywidgets>=7.6.0->faerun-notebook==0.1.5b0) (0.2.3)\n",
            "Requirement already satisfied: lxml in /usr/local/lib/python3.10/dist-packages (from nbconvert>=5->notebook>=4.4.1->widgetsnbextension~=3.6.0->ipywidgets>=7.6.0->faerun-notebook==0.1.5b0) (4.9.3)\n",
            "Requirement already satisfied: beautifulsoup4 in /usr/local/lib/python3.10/dist-packages (from nbconvert>=5->notebook>=4.4.1->widgetsnbextension~=3.6.0->ipywidgets>=7.6.0->faerun-notebook==0.1.5b0) (4.11.2)\n",
            "Requirement already satisfied: bleach in /usr/local/lib/python3.10/dist-packages (from nbconvert>=5->notebook>=4.4.1->widgetsnbextension~=3.6.0->ipywidgets>=7.6.0->faerun-notebook==0.1.5b0) (6.0.0)\n",
            "Requirement already satisfied: defusedxml in /usr/local/lib/python3.10/dist-packages (from nbconvert>=5->notebook>=4.4.1->widgetsnbextension~=3.6.0->ipywidgets>=7.6.0->faerun-notebook==0.1.5b0) (0.7.1)\n",
            "Requirement already satisfied: entrypoints>=0.2.2 in /usr/local/lib/python3.10/dist-packages (from nbconvert>=5->notebook>=4.4.1->widgetsnbextension~=3.6.0->ipywidgets>=7.6.0->faerun-notebook==0.1.5b0) (0.4)\n",
            "Requirement already satisfied: jupyterlab-pygments in /usr/local/lib/python3.10/dist-packages (from nbconvert>=5->notebook>=4.4.1->widgetsnbextension~=3.6.0->ipywidgets>=7.6.0->faerun-notebook==0.1.5b0) (0.2.2)\n",
            "Requirement already satisfied: MarkupSafe>=2.0 in /usr/local/lib/python3.10/dist-packages (from nbconvert>=5->notebook>=4.4.1->widgetsnbextension~=3.6.0->ipywidgets>=7.6.0->faerun-notebook==0.1.5b0) (2.1.3)\n",
            "Requirement already satisfied: mistune<2,>=0.8.1 in /usr/local/lib/python3.10/dist-packages (from nbconvert>=5->notebook>=4.4.1->widgetsnbextension~=3.6.0->ipywidgets>=7.6.0->faerun-notebook==0.1.5b0) (0.8.4)\n",
            "Requirement already satisfied: nbclient>=0.5.0 in /usr/local/lib/python3.10/dist-packages (from nbconvert>=5->notebook>=4.4.1->widgetsnbextension~=3.6.0->ipywidgets>=7.6.0->faerun-notebook==0.1.5b0) (0.8.0)\n",
            "Requirement already satisfied: pandocfilters>=1.4.1 in /usr/local/lib/python3.10/dist-packages (from nbconvert>=5->notebook>=4.4.1->widgetsnbextension~=3.6.0->ipywidgets>=7.6.0->faerun-notebook==0.1.5b0) (1.5.0)\n",
            "Requirement already satisfied: tinycss2 in /usr/local/lib/python3.10/dist-packages (from nbconvert>=5->notebook>=4.4.1->widgetsnbextension~=3.6.0->ipywidgets>=7.6.0->faerun-notebook==0.1.5b0) (1.2.1)\n",
            "Requirement already satisfied: fastjsonschema in /usr/local/lib/python3.10/dist-packages (from nbformat->notebook>=4.4.1->widgetsnbextension~=3.6.0->ipywidgets>=7.6.0->faerun-notebook==0.1.5b0) (2.18.0)\n",
            "Requirement already satisfied: jsonschema>=2.6 in /usr/local/lib/python3.10/dist-packages (from nbformat->notebook>=4.4.1->widgetsnbextension~=3.6.0->ipywidgets>=7.6.0->faerun-notebook==0.1.5b0) (4.19.0)\n",
            "Requirement already satisfied: argon2-cffi-bindings in /usr/local/lib/python3.10/dist-packages (from argon2-cffi->notebook>=4.4.1->widgetsnbextension~=3.6.0->ipywidgets>=7.6.0->faerun-notebook==0.1.5b0) (21.2.0)\n",
            "Requirement already satisfied: attrs>=22.2.0 in /usr/local/lib/python3.10/dist-packages (from jsonschema>=2.6->nbformat->notebook>=4.4.1->widgetsnbextension~=3.6.0->ipywidgets>=7.6.0->faerun-notebook==0.1.5b0) (23.1.0)\n",
            "Requirement already satisfied: jsonschema-specifications>=2023.03.6 in /usr/local/lib/python3.10/dist-packages (from jsonschema>=2.6->nbformat->notebook>=4.4.1->widgetsnbextension~=3.6.0->ipywidgets>=7.6.0->faerun-notebook==0.1.5b0) (2023.7.1)\n",
            "Requirement already satisfied: referencing>=0.28.4 in /usr/local/lib/python3.10/dist-packages (from jsonschema>=2.6->nbformat->notebook>=4.4.1->widgetsnbextension~=3.6.0->ipywidgets>=7.6.0->faerun-notebook==0.1.5b0) (0.30.2)\n",
            "Requirement already satisfied: rpds-py>=0.7.1 in /usr/local/lib/python3.10/dist-packages (from jsonschema>=2.6->nbformat->notebook>=4.4.1->widgetsnbextension~=3.6.0->ipywidgets>=7.6.0->faerun-notebook==0.1.5b0) (0.9.2)\n",
            "Requirement already satisfied: anyio<4,>=3.1.0 in /usr/local/lib/python3.10/dist-packages (from jupyter-server>=1.8->nbclassic>=0.4.7->notebook>=4.4.1->widgetsnbextension~=3.6.0->ipywidgets>=7.6.0->faerun-notebook==0.1.5b0) (3.7.1)\n",
            "Requirement already satisfied: websocket-client in /usr/local/lib/python3.10/dist-packages (from jupyter-server>=1.8->nbclassic>=0.4.7->notebook>=4.4.1->widgetsnbextension~=3.6.0->ipywidgets>=7.6.0->faerun-notebook==0.1.5b0) (1.6.2)\n",
            "Requirement already satisfied: cffi>=1.0.1 in /usr/local/lib/python3.10/dist-packages (from argon2-cffi-bindings->argon2-cffi->notebook>=4.4.1->widgetsnbextension~=3.6.0->ipywidgets>=7.6.0->faerun-notebook==0.1.5b0) (1.15.1)\n",
            "Requirement already satisfied: soupsieve>1.2 in /usr/local/lib/python3.10/dist-packages (from beautifulsoup4->nbconvert>=5->notebook>=4.4.1->widgetsnbextension~=3.6.0->ipywidgets>=7.6.0->faerun-notebook==0.1.5b0) (2.4.1)\n",
            "Requirement already satisfied: webencodings in /usr/local/lib/python3.10/dist-packages (from bleach->nbconvert>=5->notebook>=4.4.1->widgetsnbextension~=3.6.0->ipywidgets>=7.6.0->faerun-notebook==0.1.5b0) (0.5.1)\n",
            "Requirement already satisfied: idna>=2.8 in /usr/local/lib/python3.10/dist-packages (from anyio<4,>=3.1.0->jupyter-server>=1.8->nbclassic>=0.4.7->notebook>=4.4.1->widgetsnbextension~=3.6.0->ipywidgets>=7.6.0->faerun-notebook==0.1.5b0) (3.4)\n",
            "Requirement already satisfied: sniffio>=1.1 in /usr/local/lib/python3.10/dist-packages (from anyio<4,>=3.1.0->jupyter-server>=1.8->nbclassic>=0.4.7->notebook>=4.4.1->widgetsnbextension~=3.6.0->ipywidgets>=7.6.0->faerun-notebook==0.1.5b0) (1.3.0)\n",
            "Requirement already satisfied: exceptiongroup in /usr/local/lib/python3.10/dist-packages (from anyio<4,>=3.1.0->jupyter-server>=1.8->nbclassic>=0.4.7->notebook>=4.4.1->widgetsnbextension~=3.6.0->ipywidgets>=7.6.0->faerun-notebook==0.1.5b0) (1.1.3)\n",
            "Requirement already satisfied: pycparser in /usr/local/lib/python3.10/dist-packages (from cffi>=1.0.1->argon2-cffi-bindings->argon2-cffi->notebook>=4.4.1->widgetsnbextension~=3.6.0->ipywidgets>=7.6.0->faerun-notebook==0.1.5b0) (2.21)\n",
            "Building wheels for collected packages: faerun-notebook\n",
            "  Building wheel for faerun-notebook (pyproject.toml) ... \u001b[?25l\u001b[?25hdone\n",
            "  Created wheel for faerun-notebook: filename=faerun_notebook-0.1.5b0-py2.py3-none-any.whl size=470156 sha256=d6f4b67e9df23f8f8f758dae8d8b1c9b38e003a0953de68b8f6e97ee6207f7e0\n",
            "  Stored in directory: /root/.cache/pip/wheels/92/d6/0e/c24e55ea7bb33143c61a11fb03b609cff740f24875d0bf4fad\n",
            "Successfully built faerun-notebook\n",
            "Installing collected packages: jedi, faerun-notebook\n",
            "Successfully installed faerun-notebook-0.1.5b0 jedi-0.19.0\n"
          ]
        }
      ]
    },
    {
      "cell_type": "markdown",
      "source": [
        "### Reacción química"
      ],
      "metadata": {
        "id": "5sLC10D_oSrV"
      }
    },
    {
      "cell_type": "markdown",
      "source": [
        "Demuestra cómo se cumple la conservación de la masa en la siguiente reacción química. Sugerencia: hacer un balance estequiométrico y luego emplear la masa molecular de reactivos y productos."
      ],
      "metadata": {
        "id": "OVRhAzaVmD86"
      }
    },
    {
      "cell_type": "code",
      "source": [
        "SmilesDrawer(value=[(\"Rxn\", \"C(C1C(C(C(C(O1)O)O)O)O)O.O=O>>C(=O)=O.O\")], theme='dark', background=\"#1e1e1e\", options={'scale': 1.25})"
      ],
      "metadata": {
        "colab": {
          "base_uri": "https://localhost:8080/",
          "height": 289,
          "referenced_widgets": [
            "a33e36b7f476434d9b09fc2194db8d72",
            "fd1fa35fb50e47f19b5dab2df014a58b"
          ]
        },
        "id": "CC0mAXWmnYyN",
        "outputId": "f3de10b3-846f-4f58-f3d8-0054b2466c16"
      },
      "execution_count": null,
      "outputs": [
        {
          "output_type": "display_data",
          "data": {
            "text/plain": [
              "SmilesDrawer(background='#1e1e1e', options={'scale': 1.25}, theme='dark', value=[('Rxn', 'C(C1C(C(C(C(O1)O)O)O…"
            ],
            "application/vnd.jupyter.widget-view+json": {
              "version_major": 2,
              "version_minor": 0,
              "model_id": "a33e36b7f476434d9b09fc2194db8d72"
            }
          },
          "metadata": {
            "application/vnd.jupyter.widget-view+json": {
              "colab": {
                "custom_widget_manager": {
                  "url": "https://ssl.gstatic.com/colaboratory-static/widgets/colab-cdn-widget-manager/b3e629b1971e1542/manager.min.js"
                }
              }
            }
          }
        }
      ]
    },
    {
      "cell_type": "code",
      "source": [
        "#Reacción quimica: C(C1C(C(C(C(O1)O)O)O)O)O.O=O>>C(=O)=O.O\n",
        " #formula molecular: C6H12O6 + 6O2 → 6CO2 + 6H2O\n",
        "#Reac masa molecular:\n",
        "C_R=12\n",
        "H_R=1\n",
        "O_R=16\n",
        "reactivos_masa_total=((C_R*6)+(H_R*12)+(O_R*6)+(6*O_R*2))\n",
        "print(\"Masa totales Reactivos:\",reactivos_masa_total)\n",
        "\n",
        "#P masa molecular:\n",
        "C_p=12\n",
        "H_p=1\n",
        "O_p=16\n",
        "productos_masa_total=(6*C_p*1)+(6*O_p*2)+(6*H_p*2)+(6*O_p*1)\n",
        "print(\"Masa totales productos:\",productos_masa_total)\n",
        "if abs(reactivos_masa_total-productos_masa_total) < 0.1:\n",
        "  print(\"La conservacion de la masa cumple.\")\n",
        "else:\n",
        "    print(\"La conservacion de la masa no cumple.\")\n"
      ],
      "metadata": {
        "colab": {
          "base_uri": "https://localhost:8080/"
        },
        "id": "s267w2LjBHGn",
        "outputId": "e883193e-645a-48e9-f322-5bccb85bdf18"
      },
      "execution_count": null,
      "outputs": [
        {
          "output_type": "stream",
          "name": "stdout",
          "text": [
            "Masa totales Reactivos: 372\n",
            "Masa totales productos: 372\n",
            "La conservacion de la masa cumple.\n"
          ]
        }
      ]
    },
    {
      "cell_type": "markdown",
      "source": [
        "## Pregunta 4: Notación científica (4 puntos)"
      ],
      "metadata": {
        "id": "Rh-nAUiKhJNB"
      }
    },
    {
      "cell_type": "markdown",
      "source": [
        "Imprime las siguientes operaciones según la notación científica:\n",
        "\n",
        "(1) $1.321 \\times 10^{-4} + 8.5 \\times 10^{-2}$\n",
        "\n",
        "(2) $1.71 \\times 10^{3} - 2.01 \\times 10^{2}\\$\n",
        "\n",
        "(3) $(7.4 \\times 10^5)(7.2 \\times 10^4)$\n",
        "\n",
        "(4) $(7.4 \\times 10^5)/(7.2 \\times 10^4)$"
      ],
      "metadata": {
        "id": "NIkI45Xdqqnt"
      }
    },
    {
      "cell_type": "code",
      "source": [
        "#EJERCICIO 1\n",
        "suma_1= (1.321*10**-4) + (8.5*10**-2)\n",
        "print(\"EJERCICIO 1:\",suma_1)\n"
      ],
      "metadata": {
        "colab": {
          "base_uri": "https://localhost:8080/"
        },
        "id": "wqaugnQVC9rY",
        "outputId": "4c2003aa-5fd9-45be-e4a6-461eb3591b96"
      },
      "execution_count": null,
      "outputs": [
        {
          "output_type": "stream",
          "name": "stdout",
          "text": [
            "EJERCICIO 1: 0.0851321\n"
          ]
        }
      ]
    },
    {
      "cell_type": "code",
      "source": [
        "#EJERCICIO 2\n",
        "suma_2= (1.71*10**3) - (2.01*10**2)\n",
        "print(\"EJERCICIO 2:\",suma_2)\n"
      ],
      "metadata": {
        "colab": {
          "base_uri": "https://localhost:8080/"
        },
        "id": "6bc_veDbDH3B",
        "outputId": "be113d84-f02c-43f2-9dbe-c72b6c3d5fd4"
      },
      "execution_count": null,
      "outputs": [
        {
          "output_type": "stream",
          "name": "stdout",
          "text": [
            "EJERCICIO 2: 1509.0\n"
          ]
        }
      ]
    },
    {
      "cell_type": "code",
      "source": [
        "#EJERCICIO 3\n",
        "suma_3= (7.4*10**5) * (7.2*10**4)\n",
        "print(\"EJERCICIO 3:\",suma_3)\n"
      ],
      "metadata": {
        "colab": {
          "base_uri": "https://localhost:8080/"
        },
        "id": "SULA4_CKDTJu",
        "outputId": "d9bf9763-3c3a-45c4-93e2-85e47c531256"
      },
      "execution_count": null,
      "outputs": [
        {
          "output_type": "stream",
          "name": "stdout",
          "text": [
            "EJERCICIO 3: 53280000000.0\n"
          ]
        }
      ]
    },
    {
      "cell_type": "code",
      "source": [
        "#EJERCICIO 4\n",
        "suma_4= (7.4*10**5) / (7.2*10**4)\n",
        "print(\"EJERCICIO 4:\",suma_4)"
      ],
      "metadata": {
        "colab": {
          "base_uri": "https://localhost:8080/"
        },
        "id": "hwgclae0DYED",
        "outputId": "6f78ea7c-731e-4087-bea0-122d52ae972d"
      },
      "execution_count": null,
      "outputs": [
        {
          "output_type": "stream",
          "name": "stdout",
          "text": [
            "EJERCICIO 4: 10.277777777777779\n"
          ]
        }
      ]
    },
    {
      "cell_type": "markdown",
      "source": [
        "## Pregunta 5: Método científico (4 puntos)"
      ],
      "metadata": {
        "id": "CuzCcXJghR14"
      }
    },
    {
      "cell_type": "markdown",
      "source": [
        "En síntesis, el proceso científico se desarrolla de la siguiente manera:\n",
        "\n",
        "Observación e Inicial: Los científicos observan un compuesto llamado LK-99, con la posibilidad de ser un superconductor a temperatura ambiente y presión atmosférica.\n",
        "\n",
        "Formulación de Hipótesis y Predicciones: Un grupo de investigadores de Corea del Sur comparte preimpresiones afirmando que LK-99 podría ser un superconductor a temperatura ambiente. Esto genera interés y motiva a otros investigadores a intentar replicar los resultados.\n",
        "\n",
        "Realización de Experimentos y Recopilación de Datos: Diversos equipos de investigación intentan replicar los resultados iniciales. Llevan a cabo experimentos para medir la resistividad eléctrica y la levitación del material.\n",
        "\n",
        "Análisis de los Datos: Los resultados de los experimentos se analizan para determinar si el material realmente muestra propiedades de superconductividad. Los datos obtenidos se comparan con las predicciones de las hipótesis planteadas.\n",
        "Llegada a Conclusiones: Tras analizar los datos y los resultados de los experimentos, los investigadores concluyen que LK-99 no es un superconductor a temperatura ambiente, sino un aislante. Se identifican impurezas de sulfuro de cobre como la causa de las propiedades similares a las de un superconductor.\n",
        "\n",
        "Comunicación de los Resultados: Las conclusiones se comunican mediante preimpresiones y artículos científicos. Otros científicos revisan y evalúan los resultados para comprender el proceso y las conclusiones alcanzadas en la comunidad científica."
      ],
      "metadata": {
        "id": "IHHcBe6xThnY"
      }
    },
    {
      "cell_type": "markdown",
      "source": [
        "Artículo: https://bit.ly/3surZ1W\n",
        "Leer el siguiente artículo y explica cómo es aplicado el método científico. Emplea como máximo 300 palabras."
      ],
      "metadata": {
        "id": "WngRSR-Rhmx1"
      }
    }
  ]
}
